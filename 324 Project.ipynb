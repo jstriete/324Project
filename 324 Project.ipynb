{
 "cells": [
  {
   "cell_type": "code",
   "execution_count": 3,
   "id": "7de24cb3",
   "metadata": {},
   "outputs": [],
   "source": [
    "import hist\n",
    "import uproot\n",
    "import vector\n",
    "from math import pi\n",
    "import numpy as np\n",
    "import awkward as ak\n",
    "import mplhep as hep\n",
    "from scipy.optimize import curve_fit\n",
    "from scipy.stats import chisquare\n",
    "import matplotlib.pyplot as plt"
   ]
  },
  {
   "cell_type": "code",
   "execution_count": 4,
   "id": "f9574708",
   "metadata": {},
   "outputs": [],
   "source": [
    "spin_corr = uproot.open('/home/he614/phys324/minitree_total_SM.root')"
   ]
  },
  {
   "cell_type": "code",
   "execution_count": 5,
   "id": "c181df26",
   "metadata": {},
   "outputs": [
    {
     "data": {
      "text/plain": [
       "['hist_0;1', 'Step0;1', 'hist;1', 'Step7;1', 'Step8;1', 'Spin_Corr;1']"
      ]
     },
     "execution_count": 5,
     "metadata": {},
     "output_type": "execute_result"
    }
   ],
   "source": [
    "spin_corr.keys()"
   ]
  },
  {
   "cell_type": "code",
   "execution_count": 6,
   "id": "781d2027",
   "metadata": {},
   "outputs": [],
   "source": [
    "spin_corr_data = spin_corr['Spin_Corr']['ll_cHel'].array()"
   ]
  },
  {
   "cell_type": "code",
   "execution_count": 7,
   "id": "e7180ef5",
   "metadata": {
    "scrolled": true
   },
   "outputs": [
    {
     "data": {
      "text/html": [
       "<pre>[0.0613,\n",
       " 0.345,\n",
       " -0.55,\n",
       " -0.0124,\n",
       " -0.907,\n",
       " 0.137,\n",
       " 0.321,\n",
       " 0.876,\n",
       " -0.539,\n",
       " -0.353,\n",
       " ...,\n",
       " -0.202,\n",
       " 0.832,\n",
       " -0.278,\n",
       " -0.139,\n",
       " -0.728,\n",
       " 0.912,\n",
       " 0.445,\n",
       " -0.0541,\n",
       " -0.303]\n",
       "-----------------------\n",
       "type: 1374600 * float64</pre>"
      ],
      "text/plain": [
       "<Array [0.0613, 0.345, -0.55, ..., -0.0541, -0.303] type='1374600 * float64'>"
      ]
     },
     "execution_count": 7,
     "metadata": {},
     "output_type": "execute_result"
    }
   ],
   "source": [
    "spin_corr_data"
   ]
  },
  {
   "cell_type": "code",
   "execution_count": 44,
   "id": "d0b25020",
   "metadata": {
    "scrolled": true
   },
   "outputs": [
    {
     "data": {
      "image/png": "[encoded data removed]",
      "text/plain": [
       "<Figure size 720x576 with 1 Axes>"
      ]
     },
     "metadata": {
      "needs_background": "light"
     },
     "output_type": "display_data"
    }
   ],
   "source": [
    "fig, ax = plt.subplots(figsize=(10, 8))\n",
    "\n",
    "spin_corr_plot = hist.Hist(hist.axis.Regular(12, -1, 1, overflow=False, underflow=False, name=\"Spin Corr\"), storage=hist.storage.Weight())\n",
    "spin_corr_plot.fill(spin_corr_data);\n",
    "hep.histplot(spin_corr_plot);\n",
    "#plt.title(\"Example: Top Quark $p_T$ in Lab Frame\")"
   ]
  },
  {
   "cell_type": "code",
   "execution_count": 9,
   "id": "ef55300d",
   "metadata": {},
   "outputs": [
    {
     "data": {
      "text/plain": [
       "awkward.highlevel.Array"
      ]
     },
     "execution_count": 9,
     "metadata": {},
     "output_type": "execute_result"
    }
   ],
   "source": [
    "type(spin_corr_data)"
   ]
  },
  {
   "cell_type": "code",
   "execution_count": 10,
   "id": "bc4faf89",
   "metadata": {},
   "outputs": [],
   "source": [
    "def line(x, a, b):\n",
    "    return a*x+b"
   ]
  },
  {
   "cell_type": "code",
   "execution_count": 11,
   "id": "83ac7aea",
   "metadata": {},
   "outputs": [],
   "source": [
    "x_linspace = np.linspace(-1, 1, 12)\n",
    "spin_corr_vals = spin_corr_plot.values()\n",
    "sc_trapz = np.trapz(spin_corr_vals)\n",
    "spin_corr_norm_plot = (spin_corr_plot/spin_corr_plot.axes[0].widths)/sc_trapz\n",
    "sc_data_norms_vals = spin_corr_norm_plot.values()"
   ]
  },
  {
   "cell_type": "code",
   "execution_count": 12,
   "id": "fd38b4a3",
   "metadata": {
    "scrolled": true
   },
   "outputs": [
    {
     "data": {
      "text/plain": [
       "Text(0.5, 1.0, 'Bottom Quark $p_T$ with linear regression')"
      ]
     },
     "execution_count": 12,
     "metadata": {},
     "output_type": "execute_result"
    },
    {
     "data": {
      "image/png": "[encoded data removed]",
      "text/plain": [
       "<Figure size 432x288 with 1 Axes>"
      ]
     },
     "metadata": {
      "needs_background": "light"
     },
     "output_type": "display_data"
    }
   ],
   "source": [
    "pars, errors = curve_fit(line, x_linspace, sc_data_norms_vals, p0 = [4000, 11000])\n",
    "liny = np.asarray(line(x_linspace, pars[0], pars[1]))\n",
    "hep.histplot(spin_corr_norm_plot);\n",
    "plt.plot(x_linspace, liny);\n",
    "plt.xlim(-1, 1)\n",
    "#plt.ylim(0,8000)\n",
    "plt.xlabel(\"Bottom $p_T$ (GeV)\", fontsize = 15)\n",
    "plt.title(\"Bottom Quark $p_T$ with linear regression\")"
   ]
  },
  {
   "cell_type": "code",
   "execution_count": 13,
   "id": "232b3a36",
   "metadata": {
    "scrolled": true
   },
   "outputs": [
    {
     "name": "stdout",
     "output_type": "stream",
     "text": [
      "WeightedSum(value=6, variance=1.43867e-05)\n"
     ]
    }
   ],
   "source": [
    "area = np.trapz(spin_corr_norm_plot)\n",
    "print(area)"
   ]
  },
  {
   "cell_type": "code",
   "execution_count": 14,
   "id": "e4d396f0",
   "metadata": {},
   "outputs": [],
   "source": [
    "scnp2 = spin_corr_norm_plot.density()"
   ]
  },
  {
   "cell_type": "code",
   "execution_count": 15,
   "id": "58453aa4",
   "metadata": {
    "scrolled": true
   },
   "outputs": [
    {
     "data": {
      "text/plain": [
       "[StairsArtists(stairs=<matplotlib.patches.StepPatch object at 0x7f6d34021dc0>, errorbar=None, legend_artist=None)]"
      ]
     },
     "execution_count": 15,
     "metadata": {},
     "output_type": "execute_result"
    },
    {
     "data": {
      "image/png": "[encoded data removed]",
      "text/plain": [
       "<Figure size 432x288 with 1 Axes>"
      ]
     },
     "metadata": {
      "needs_background": "light"
     },
     "output_type": "display_data"
    }
   ],
   "source": [
    "hep.histplot(spin_corr_norm_plot, color = 'blue');\n",
    "hep.histplot(scnp2, color = 'r')\n",
    "#plt.plot(x_linspace, liny);"
   ]
  },
  {
   "cell_type": "code",
   "execution_count": 16,
   "id": "b01405a8",
   "metadata": {},
   "outputs": [
    {
     "data": {
      "image/png": "[encoded data removed]",
      "text/plain": [
       "<Figure size 432x288 with 1 Axes>"
      ]
     },
     "metadata": {
      "needs_background": "light"
     },
     "output_type": "display_data"
    }
   ],
   "source": [
    "ar = plt.errorbar(spin_corr_plot.axes[0].centers, scnp2, fmt = \".\")"
   ]
  },
  {
   "cell_type": "code",
   "execution_count": 17,
   "id": "ce602bb0",
   "metadata": {
    "scrolled": false
   },
   "outputs": [
    {
     "name": "stdout",
     "output_type": "stream",
     "text": [
      "Slope: 0.10784\n"
     ]
    }
   ],
   "source": [
    "print(\"Slope: {:.5f}\".format(pars[0]))"
   ]
  },
  {
   "cell_type": "code",
   "execution_count": 18,
   "id": "0cb42188",
   "metadata": {},
   "outputs": [
    {
     "name": "stdout",
     "output_type": "stream",
     "text": [
      "Y-int: 0.54933\n"
     ]
    }
   ],
   "source": [
    "print(\"Y-int: {:.5f}\".format(pars[1]))"
   ]
  },
  {
   "cell_type": "code",
   "execution_count": 19,
   "id": "c28846bd",
   "metadata": {
    "scrolled": true
   },
   "outputs": [
    {
     "name": "stdout",
     "output_type": "stream",
     "text": [
      "D (Fit Calculation): -0.21568\n"
     ]
    }
   ],
   "source": [
    "print(\"D (Fit Calculation): {:.5f}\".format(-(2 * pars[0])))"
   ]
  },
  {
   "cell_type": "code",
   "execution_count": 20,
   "id": "3f41d917",
   "metadata": {},
   "outputs": [],
   "source": [
    "pos = len(spin_corr_data[spin_corr_data > 0])\n",
    "neg = len(spin_corr_data[spin_corr_data < 0])\n",
    "Alab = (pos - neg) / (pos + neg)"
   ]
  },
  {
   "cell_type": "code",
   "execution_count": 21,
   "id": "46b6edef",
   "metadata": {},
   "outputs": [
    {
     "name": "stdout",
     "output_type": "stream",
     "text": [
      "D (Symmetry Calculation): -0.20953\n"
     ]
    }
   ],
   "source": [
    "print(\"D (Symmetry Calculation): {:.5f}\".format(-(2 * Alab)))"
   ]
  },
  {
   "cell_type": "code",
   "execution_count": null,
   "id": "be8f7147",
   "metadata": {},
   "outputs": [],
   "source": []
  },
  {
   "cell_type": "code",
   "execution_count": 22,
   "id": "750eb9d9",
   "metadata": {
    "scrolled": false
   },
   "outputs": [],
   "source": [
    "Cij_corr = spin_corr['Spin_Corr']['c_kn'].array()"
   ]
  },
  {
   "cell_type": "code",
   "execution_count": 23,
   "id": "53aba54b",
   "metadata": {},
   "outputs": [
    {
     "data": {
      "text/plain": [
       "[StairsArtists(stairs=<matplotlib.patches.StepPatch object at 0x7f6d33f01be0>, errorbar=<ErrorbarContainer object of 3 artists>, legend_artist=<ErrorbarContainer object of 3 artists>)]"
      ]
     },
     "execution_count": 23,
     "metadata": {},
     "output_type": "execute_result"
    },
    {
     "data": {
      "image/png": "[encoded data removed]",
      "text/plain": [
       "<Figure size 432x288 with 1 Axes>"
      ]
     },
     "metadata": {
      "needs_background": "light"
     },
     "output_type": "display_data"
    }
   ],
   "source": [
    "Cij_plot = hist.Hist(hist.axis.Regular(12, -1, 1, overflow=False, underflow=False, name=\"Cij Corr\"), storage=hist.storage.Weight())\n",
    "Cij_plot.fill(Cij_corr);\n",
    "hep.histplot(Cij_plot)"
   ]
  },
  {
   "cell_type": "code",
   "execution_count": 24,
   "id": "6963a32d",
   "metadata": {},
   "outputs": [
    {
     "ename": "IndentationError",
     "evalue": "expected an indented block (3280040035.py, line 2)",
     "output_type": "error",
     "traceback": [
      "\u001b[0;36m  File \u001b[0;32m\"/tmp/ipykernel_25607/3280040035.py\"\u001b[0;36m, line \u001b[0;32m2\u001b[0m\n\u001b[0;31m    \u001b[0m\n\u001b[0m    ^\u001b[0m\n\u001b[0;31mIndentationError\u001b[0m\u001b[0;31m:\u001b[0m expected an indented block\n"
     ]
    }
   ],
   "source": [
    "def xlogx(x, a, b):\n",
    "    "
   ]
  },
  {
   "cell_type": "code",
   "execution_count": 25,
   "id": "8c960d12",
   "metadata": {},
   "outputs": [],
   "source": [
    "second_spin_corr = uproot.open('/home/he614/phys324/susy_minitree_100.root')"
   ]
  },
  {
   "cell_type": "code",
   "execution_count": 29,
   "id": "c87378d6",
   "metadata": {},
   "outputs": [
    {
     "data": {
      "text/plain": [
       "['Step8;1', 'Nevents;1']"
      ]
     },
     "execution_count": 29,
     "metadata": {},
     "output_type": "execute_result"
    }
   ],
   "source": [
    "second_spin_corr.keys()"
   ]
  },
  {
   "cell_type": "code",
   "execution_count": 58,
   "id": "611b82e7",
   "metadata": {},
   "outputs": [],
   "source": [
    "lpt_sus_data = second_spin_corr['Step8']['l_pt'].array()"
   ]
  },
  {
   "cell_type": "code",
   "execution_count": 59,
   "id": "71c37723",
   "metadata": {
    "scrolled": true
   },
   "outputs": [
    {
     "data": {
      "text/html": [
       "<pre>[38.4,\n",
       " 64.3,\n",
       " 26.1,\n",
       " 47.3,\n",
       " 47.2,\n",
       " 77.4,\n",
       " 55.3,\n",
       " 104,\n",
       " 88.6,\n",
       " 125,\n",
       " ...,\n",
       " 48.2,\n",
       " 68.8,\n",
       " 55.4,\n",
       " 143,\n",
       " 35.4,\n",
       " 145,\n",
       " 35,\n",
       " 75.9,\n",
       " 119]\n",
       "--------------------\n",
       "type: 4735 * float32</pre>"
      ],
      "text/plain": [
       "<Array [38.4, 64.3, 26.1, 47.3, ..., 145, 35, 75.9, 119] type='4735 * float32'>"
      ]
     },
     "execution_count": 59,
     "metadata": {},
     "output_type": "execute_result"
    }
   ],
   "source": [
    "lpt_sus_data"
   ]
  },
  {
   "cell_type": "code",
   "execution_count": 61,
   "id": "9f4bce29",
   "metadata": {
    "scrolled": false
   },
   "outputs": [
    {
     "data": {
      "image/png": "[encoded data removed]",
      "text/plain": [
       "<Figure size 720x576 with 1 Axes>"
      ]
     },
     "metadata": {
      "needs_background": "light"
     },
     "output_type": "display_data"
    }
   ],
   "source": [
    "fig, ax = plt.subplots(figsize=(10, 8))\n",
    "\n",
    "lpt_sus_plot = hist.Hist(hist.axis.Regular(12, 0, 500, overflow=False, underflow=False, name=\"Spin Corr\"), storage=hist.storage.Weight())\n",
    "lpt_sus_plot.fill(lpt_sus_data);\n",
    "hep.histplot(lpt_sus_plot);"
   ]
  },
  {
   "cell_type": "code",
   "execution_count": 55,
   "id": "d7a4d0a3",
   "metadata": {},
   "outputs": [],
   "source": [
    "h_sm_lep_pt = spin_corr['Step8']['lep_pt'].array()[0:10000]"
   ]
  },
  {
   "cell_type": "code",
   "execution_count": 56,
   "id": "c622a595",
   "metadata": {},
   "outputs": [
    {
     "data": {
      "image/png": "[encoded data removed]",
      "text/plain": [
       "<Figure size 720x576 with 1 Axes>"
      ]
     },
     "metadata": {
      "needs_background": "light"
     },
     "output_type": "display_data"
    }
   ],
   "source": [
    "fig, ax = plt.subplots(figsize=(10, 8))\n",
    "\n",
    "h_sm_lep_pt_plot = hist.Hist(hist.axis.Regular(12, 0, 500, overflow=False, underflow=False, name=\"Spin Corr\"), storage=hist.storage.Weight())\n",
    "h_sm_lep_pt_plot.fill(h_sm_lep_pt);\n",
    "hep.histplot(h_sm_lep_pt_plot);"
   ]
  },
  {
   "cell_type": "code",
   "execution_count": 62,
   "id": "84904946",
   "metadata": {
    "scrolled": false
   },
   "outputs": [
    {
     "data": {
      "image/png": "[encoded data removed]",
      "text/plain": [
       "<Figure size 720x576 with 1 Axes>"
      ]
     },
     "metadata": {
      "needs_background": "light"
     },
     "output_type": "display_data"
    }
   ],
   "source": [
    "fig, ax = plt.subplots(figsize=(10, 8))\n",
    "\n",
    "hep.histplot(\n",
    "    [h_sm_lep_pt_plot, lpt_sus_plot],\n",
    "    histtype='fill',\n",
    "    color=['blue', 'red'],\n",
    "    stack=True,\n",
    "    label=['Standard Model', 'Super-Symmetric Model'],\n",
    "    ax=ax\n",
    "    # options..\n",
    ")\n",
    "plt.legend()\n",
    "plt.show()"
   ]
  },
  {
   "cell_type": "code",
   "execution_count": 64,
   "id": "e24cbec5",
   "metadata": {},
   "outputs": [],
   "source": [
    "leta_sus_data = second_spin_corr['Step8']['l_eta']"
   ]
  },
  {
   "cell_type": "code",
   "execution_count": 77,
   "id": "7ce49458",
   "metadata": {
    "scrolled": false
   },
   "outputs": [
    {
     "data": {
      "image/png": "[encoded data removed]",
      "text/plain": [
       "<Figure size 720x576 with 1 Axes>"
      ]
     },
     "metadata": {
      "needs_background": "light"
     },
     "output_type": "display_data"
    }
   ],
   "source": [
    "fig, ax = plt.subplots(figsize=(10, 8))\n",
    "\n",
    "leta_sus_plot = hist.Hist(hist.axis.Regular(12, 0, 4, overflow=False, underflow=False, name=\"Spin Corr\"), storage=hist.storage.Weight())\n",
    "leta_sus_plot.fill(leta_sus_data);\n",
    "hep.histplot(leta_sus_plot);"
   ]
  },
  {
   "cell_type": "code",
   "execution_count": 72,
   "id": "df099544",
   "metadata": {},
   "outputs": [],
   "source": [
    "h_sm_lep_eta = spin_corr['Step8']['lep_eta'].array()[0:10000]"
   ]
  },
  {
   "cell_type": "code",
   "execution_count": 78,
   "id": "7eceb83d",
   "metadata": {},
   "outputs": [
    {
     "data": {
      "image/png": "[encoded data removed]",
      "text/plain": [
       "<Figure size 720x576 with 1 Axes>"
      ]
     },
     "metadata": {
      "needs_background": "light"
     },
     "output_type": "display_data"
    }
   ],
   "source": [
    "fig, ax = plt.subplots(figsize=(10, 8))\n",
    "\n",
    "h_sm_lep_eta_plot = hist.Hist(hist.axis.Regular(12, 0, 4, overflow=False, underflow=False, name=\"Spin Corr\"), storage=hist.storage.Weight())\n",
    "h_sm_lep_eta_plot.fill(h_sm_lep_eta);\n",
    "hep.histplot(h_sm_lep_eta_plot);"
   ]
  }
 ],
 "metadata": {
  "kernelspec": {
   "display_name": "Python 3.9 (Default)",
   "language": "python",
   "name": "python3"
  },
  "language_info": {
   "codemirror_mode": {
    "name": "ipython",
    "version": 3
   },
   "file_extension": ".py",
   "mimetype": "text/x-python",
   "name": "python",
   "nbconvert_exporter": "python",
   "pygments_lexer": "ipython3",
   "version": "3.9.7"
  }
 },
 "nbformat": 4,
 "nbformat_minor": 5
}
